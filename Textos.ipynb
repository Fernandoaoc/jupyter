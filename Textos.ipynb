{
 "cells": [
  {
   "cell_type": "markdown",
   "id": "48e47f30",
   "metadata": {},
   "source": [
    "# Textos no Jupyter\n",
    "<hr style=\"border-top: 5px dashed #234B6B; background-color: #E9B74F\"/>\n",
    "\n",
    "O Jupyter pode utilizar ``Markdown`` ou ``HTML`` para realizar a marcação de textos. Para que seja efetivo é necessário que a célula seja do tipo _Markdown_.\n",
    "\n",
    "``Markdown`` é frequentemente utilizado dado a sua simplicidade, mas o ``HTML`` estende as opções tanto de personalização quanto de navegação.\n",
    "\n",
    "### Cabeçalhos\n",
    "\n",
    "|Markdown            |    HTML               |                                                                     \n",
    "|--------------------|-----------------------|\n",
    "|\\# Cabeçalho 1      |\\<h1>Cabeçalho 1\\</h1> |\n",
    "|\\## Cabeçalho 2     |\\<h2>Cabeçalho 2\\</h2> |\n",
    "|\\### Cabeçalho 3    |\\<h3>Cabeçalho 3\\</h3> |\n",
    "|\\#### Cabeçalho 4   |\\<h4>Cabeçalho 4\\</h4> |\n",
    "|\\##### Cabeçalho 5  |\\<h5>Cabeçalho 5\\</h5> |\n",
    "|\\###### Cabeçalho 6 |\\<h6>Cabeçalho 6\\</h6> |\n",
    "\n",
    "Exemplo:"
   ]
  },
  {
   "cell_type": "code",
   "execution_count": 2,
   "id": "43d9d678",
   "metadata": {},
   "outputs": [
    {
     "data": {
      "text/markdown": [
       "# Cabeçalho 1\n",
       "<h1> Cabeçalho 1 tb </h1>\n"
      ],
      "text/plain": [
       "<IPython.core.display.Markdown object>"
      ]
     },
     "metadata": {},
     "output_type": "display_data"
    }
   ],
   "source": [
    "%%markdown\n",
    "# Cabeçalho 1\n",
    "<h1> Cabeçalho 1 tb </h1>"
   ]
  },
  {
   "cell_type": "markdown",
   "id": "321e7422",
   "metadata": {},
   "source": [
    "### Parágrafos\n",
    "\n",
    "É uma boa prática manter a identação, embora não afete diretamente a interpretação da marcação.\n",
    "\n",
    "|Markdown            |    HTML               |                                                                     \n",
    "|--------------------|-----------------------|\n",
    "|Linha em branco     |\\<p>Uso desta tag\\</p> |\n",
    "\n",
    "### Quebra de linhas\n",
    "\n",
    "É necessário utilizar a tag `HTML`\\<br>."
   ]
  },
  {
   "cell_type": "code",
   "execution_count": 3,
   "id": "9a1d4100",
   "metadata": {},
   "outputs": [
    {
     "data": {
      "text/markdown": [
       "É possível misturar as marcações. Pode ser feito com quebra de linha,\n",
       "ou ainda...\n",
       "\n",
       "<p>Posso fazer em HTML</p>\n"
      ],
      "text/plain": [
       "<IPython.core.display.Markdown object>"
      ]
     },
     "metadata": {},
     "output_type": "display_data"
    }
   ],
   "source": [
    "%%markdown\n",
    "É possível misturar as marcações. Pode ser feito com quebra de linha,\n",
    "ou ainda...\n",
    "\n",
    "<p>Posso fazer em HTML</p>"
   ]
  },
  {
   "cell_type": "markdown",
   "id": "4e4a1f84",
   "metadata": {},
   "source": [
    "### Ênfase em texto\n",
    "\n",
    "O `*` e o `_` é utilizado para dar enfâse ao texto conforme a tabela abaixo. A utilização dos sinais em sequência 3 vezes aplica os dois estilos (*__itálico e negrito__*).\n",
    "\n",
    "|Markdown               |    HTML                         |                                                         \n",
    "|-----------------------|---------------------------------|\n",
    "|\\*\\*Negrito\\*\\*        | \\<b>Negrito\\</b>                |\n",
    "|\\_\\_Negrito\\_\\_        | \\<strong>Negrito\\</strong>      |\n",
    "|\\*Itálico\\*            | \\<i>Negrito\\</i>                |\n",
    "|\\_Itálico\\_            | \\<em>Negrito\\</em>              |\n",
    "\n",
    "### Blocos de citação\n",
    "\n",
    "São utilizado de forma mais fácil utilizando `Markdown`. Basta iniciar o parágrafo com o sinal `>`.\n",
    "> Causa este efeito."
   ]
  },
  {
   "cell_type": "code",
   "execution_count": 4,
   "id": "7c498df2",
   "metadata": {},
   "outputs": [
    {
     "data": {
      "text/markdown": [
       "**Negrito** ou _itálico_ ou *__ambos__*\n",
       "\n",
       "> Adicionar o sinal de ``>`` cria um efeito de citações importante e bastante funcional.\n"
      ],
      "text/plain": [
       "<IPython.core.display.Markdown object>"
      ]
     },
     "metadata": {},
     "output_type": "display_data"
    }
   ],
   "source": [
    "%%markdown\n",
    "**Negrito** ou _itálico_ ou *__ambos__*\n",
    "\n",
    "> Adicionar o sinal de ``>`` cria um efeito de citações importante e bastante funcional."
   ]
  },
  {
   "cell_type": "markdown",
   "id": "fa4c2000",
   "metadata": {},
   "source": [
    "### Listas\n",
    "\n",
    "O uso de listas com ``Markdown`` é mais simples. Em `HTML` existe uma maior complexidade.\n",
    "\n",
    "Em listas desordenadas:\n",
    "\n",
    "|Markdown       |  HTML           |                                                         \n",
    "|---------------|-----------------|\n",
    "|\\* novo        |\\<ul>            |\n",
    "|\\- novo        |\\<li>novo <\\/li> |\n",
    "|\\+ novo        |\\</ul>           |\n",
    "\n",
    "Em listas ordenadas:\n",
    "\n",
    "|Markdown       |  HTML           |                                                         \n",
    "|---------------|-----------------|\n",
    "|1. novo        |\\<ol>            |\n",
    "|2. novo        |\\<li>novo <\\/li> |\n",
    "|3. novo        |\\</ol>           |"
   ]
  },
  {
   "cell_type": "code",
   "execution_count": 5,
   "id": "b05fbd47",
   "metadata": {},
   "outputs": [
    {
     "data": {
      "text/markdown": [
       "Listas podem ser montadas inclusive aninhadas\n",
       "+ Primeiro nível\n",
       "    - Subnível 1\n",
       "    - Subnível 2\n",
       "+ Segundo nível\n",
       "    - Teste\n",
       "    - Outro teste\n"
      ],
      "text/plain": [
       "<IPython.core.display.Markdown object>"
      ]
     },
     "metadata": {},
     "output_type": "display_data"
    }
   ],
   "source": [
    "%%markdown\n",
    "Listas podem ser montadas inclusive aninhadas\n",
    "+ Primeiro nível\n",
    "    - Subnível 1\n",
    "    - Subnível 2\n",
    "+ Segundo nível\n",
    "    - Teste\n",
    "    - Outro teste"
   ]
  },
  {
   "cell_type": "markdown",
   "id": "3f6990d9",
   "metadata": {},
   "source": [
    "### Tabelas\n",
    "\n",
    "Podem ser realçadas através de ``HTML`` ou ``Markdown``."
   ]
  },
  {
   "cell_type": "code",
   "execution_count": 6,
   "id": "57a98b58",
   "metadata": {},
   "outputs": [
    {
     "data": {
      "text/markdown": [
       "<table>\n",
       "    <tr> <th> Nome </th> <th> Idade</th></tr>    \n",
       "    <tr> <td> Ronaldo </td> <td> 37</td></tr>    \n",
       "</table>\n",
       "\n",
       "| Nome   | Idade |\n",
       "|--------|------:|\n",
       "|Ronaldo |37     |\n"
      ],
      "text/plain": [
       "<IPython.core.display.Markdown object>"
      ]
     },
     "metadata": {},
     "output_type": "display_data"
    }
   ],
   "source": [
    "%%markdown\n",
    "<table>\n",
    "    <tr> <th> Nome </th> <th> Idade</th></tr>    \n",
    "    <tr> <td> Ronaldo </td> <td> 37</td></tr>    \n",
    "</table>\n",
    "\n",
    "| Nome   | Idade |\n",
    "|--------|------:|\n",
    "|Ronaldo |37     |"
   ]
  },
  {
   "cell_type": "markdown",
   "id": "5be4e8bf",
   "metadata": {},
   "source": [
    "### Listas de checagem\n",
    "\n",
    "Com sintaxe parecida com o de um link, é possível montar listas de checagem\n",
    "\n",
    "\\- [ ] [Introdução](http://bit.ly)\n",
    "\n",
    "\\- [x] [Introdução](http://bit.ly)\n",
    "\n",
    "<a id=\"links\"></a>\n",
    "### Links internos e externos\n",
    "\n",
    "Pode ser utilizado `HTML` ou `Markdown` para a criação de links, tanto internamente quanto externamente.\n",
    "\n",
    "|Markdown               |  HTML                              |\n",
    "|-----------------------|------------------------------------|\n",
    "|\\[Link](http://bit.ly) | \\<a src=\"http://bit.ly\"> Link \\</a>|\n",
    "|\\[Link](#secao)        | \\<a src=\"#secao\"> Link \\</a>       |\n",
    "\n",
    "Mas como marcar uma seção no mesmo documento!? \\<a id=\"#secao\"> \\</a>\n",
    "\n",
    "Para links externos e emails, você pode criá-los rapidamente colocando o endereço entre ``< >``."
   ]
  },
  {
   "cell_type": "code",
   "execution_count": 8,
   "id": "65658c48",
   "metadata": {},
   "outputs": [
    {
     "data": {
      "text/markdown": [
       "Uma lista de tarefas pode ser feita ...\n",
       "\n",
       "- [x] [Aprender a criar links]()\n",
       "- [ ] [Internos]()\n",
       "- [ ] [Externos]()\n",
       "\n",
       "Links podem facilitar a navegação [externa](http://www.google.com) ou [internamente](#links)\n",
       "\n",
       "Imagens também são inseridas assim de forma análoga:\n",
       "    Em ``HTML`` <img src=\"img/ipython.jpg\" width=\"100\">\n",
       "    Em ``Markdown`` ![Imagem](img/ipython.jpg)\n"
      ],
      "text/plain": [
       "<IPython.core.display.Markdown object>"
      ]
     },
     "metadata": {},
     "output_type": "display_data"
    }
   ],
   "source": [
    "%%markdown\n",
    "Uma lista de tarefas pode ser feita ...\n",
    "\n",
    "- [x] [Aprender a criar links]()\n",
    "- [ ] [Internos]()\n",
    "- [ ] [Externos]()\n",
    "\n",
    "Links podem facilitar a navegação [externa](http://www.google.com) ou [internamente](#links)\n",
    "\n",
    "Imagens também são inseridas assim de forma análoga:\n",
    "    Em ``HTML`` <img src=\"img/ipython.jpg\" width=\"100\">\n",
    "    Em ``Markdown`` ![Imagem](img/ipython.jpg)"
   ]
  },
  {
   "cell_type": "code",
   "execution_count": null,
   "id": "24e3fd6c",
   "metadata": {},
   "outputs": [],
   "source": []
  }
 ],
 "metadata": {
  "kernelspec": {
   "display_name": "Python 3",
   "language": "python",
   "name": "python3"
  },
  "language_info": {
   "codemirror_mode": {
    "name": "ipython",
    "version": 3
   },
   "file_extension": ".py",
   "mimetype": "text/x-python",
   "name": "python",
   "nbconvert_exporter": "python",
   "pygments_lexer": "ipython3",
   "version": "3.8.5"
  },
  "latex_envs": {
   "LaTeX_envs_menu_present": true,
   "autoclose": false,
   "autocomplete": true,
   "bibliofile": "biblio.bib",
   "cite_by": "apalike",
   "current_citInitial": 1,
   "eqLabelWithNumbers": true,
   "eqNumInitial": 1,
   "hotkeys": {
    "equation": "Ctrl-E",
    "itemize": "Ctrl-I"
   },
   "labels_anchors": false,
   "latex_user_defs": false,
   "report_style_numbering": false,
   "user_envs_cfg": false
  }
 },
 "nbformat": 4,
 "nbformat_minor": 5
}
