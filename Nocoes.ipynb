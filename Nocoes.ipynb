{
 "cells": [
  {
   "cell_type": "markdown",
   "id": "a9c4567f",
   "metadata": {},
   "source": [
    "# Noções básicas do Jupyter\n",
    "<hr style=\"border-top: 5px dashed #234B6B; background-color: #E9B74F\"/>\n",
    "\n",
    "O ``Jupyter`` é uma aplicação web que permite compartilhar e criar documentos que computacionais que envolvam códigos, simulações e seus resultados. Assim é possível documentar toda a \"história\" da pesquisa, através de um documento interativo que permite a organização de ideias de forma simples e direta.\n",
    "\n",
    "Outro uso importante é a execução fracionada de código, que facilita a realização de testes breves. Permite ainda descrição de modelos e observações científicas misturando-se códigos e texto (inclusive fórmulas).\n",
    "\n",
    "Um dos usos mais notáveis da aplicação é a possibilidade de se garantir a reprodução das observações, permitindo que outros interessados no conteúdo possam verificar, melhorar e estender as percepções.\n",
    "\n",
    "## O básico\n",
    "\n",
    "No ``Jupyter``, cada arquivos com a extensão ``.ipynb`` representa um novo arquivo de notas. Estes arquivos, possuem uma série de _células_ que possuem um determinado tipo. Este tipo indica à aplicação como ela deve tratar o conteúdo ali contido. Abaixo vemos um célula do tipo _code_. Note que a presente célula possui o tipo _Markdown_, que é uma linguagem simples de marcação de texto, que nos permitiu redigir essa mensagem. O tipo _Heading_ adiciona uma célula com a notação de um cabeçalho utilizado em _Markdown_."
   ]
  },
  {
   "cell_type": "code",
   "execution_count": null,
   "id": "d5830a39",
   "metadata": {},
   "outputs": [],
   "source": [
    "x = 2"
   ]
  },
  {
   "cell_type": "markdown",
   "id": "e881e4b5",
   "metadata": {},
   "source": [
    "Um tipo de célula tida como \"esotérica\" para muitos é o _Raw NBconvert_. A suite do ``ipython`` possui a opção ``nbconvert`` que permite transformar um arquivo de notebook ``.ipynb`` em outros formatos de documentos. O conteúdo desta célula terá o processamento ignorado pela ferramenta, sendo colocado _ipsis litteris_ no arquivo convertido. Como exemplo, a célula subsequente contem um trecho de código ``Latex`` que adiciona uma equação no documento final.\n",
    "\n",
    "O comando abaixo converte o presente notebook em um arquivo ``Latex``. O comando utiliza internamente o ``Pandoc``, uma suíte de conversão de documentos que utilizem de algum formato de marcação para outro.\n",
    "```bash\n",
    "ipython nbconvert --to latex Noções\\ Básicas\\ do\\ Jupyter.ipynb\n",
    "```\n",
    "\n",
    "O documento fruto da conversão pode ser visto [aqui](No%C3%A7%C3%B5es%20B%C3%A1sicas%20do%20Jupyter.tex). Depois de \"compilado\" o arquivo de saída fica [assim](No%C3%A7%C3%B5es%20B%C3%A1sicas%20do%20Jupyter.pdf). Podemos ver que a instrução ``Latex`` utilizada na célula foi fielmente disposta no documento convertido."
   ]
  },
  {
   "cell_type": "raw",
   "id": "14176ad0",
   "metadata": {},
   "source": [
    "\\begin{equation}\n",
    "    \\delta = b^2-4ac\n",
    "\\end{equation}"
   ]
  },
  {
   "cell_type": "markdown",
   "id": "0cd70539",
   "metadata": {},
   "source": [
    "### Como utilizar as células e executar comandos?\n",
    "\n",
    "- `Cima` e `Baixo` permitem navegar entre as células\n",
    "- Ao apertar `Enter` você entra no modo edição\n",
    "- `Esc` sai do modo edição\n",
    "- `Shift` + `Enter` permite executar uma célula e selecionar a célula abaixo\n",
    "- `Ctrl` + `Enter` apenas executa a célula selecionada\n",
    "- `Alt` + `Enter` para executar uma célula e adicionar outra célula abaixo\n",
    "-  Em casos de dúvida a tecla `h` mostra um painel de ajuda com essas e outras combinações\n",
    "- Lembre-se de observar o tipo da célula\n",
    "\n",
    "No canto esquer da célula, observa uma linha de cor distinta. Estas cores diferenciam entre o modo de edição e modo de comando (normalmente verde e azul, respectivamente).\n",
    "\n",
    "Agora navegue para a próxima célula e a execute:"
   ]
  },
  {
   "cell_type": "code",
   "execution_count": null,
   "id": "8619209f",
   "metadata": {},
   "outputs": [],
   "source": [
    "print('Testando o Jupyter')"
   ]
  },
  {
   "cell_type": "markdown",
   "id": "b783fb07",
   "metadata": {},
   "source": [
    "É recomendável que se utilize de atalhos para se aumentar a produtividade. Muitos dos atalhos, no modo de comando, são semelhantes aos vistos no editor de textos ``vim``.\n",
    "- `dd` delete a célula corrente\n",
    "- `z` desfaz a deleção de uma célula\n",
    "- `c` copia a célula corrente\n",
    "- `a` adiciona uma célula nova acima\n",
    "- `b` adiciona uma célula nova abaixo\n",
    "- `c` copia a célula corrente\n",
    "- `x` recorta a célula corrente\n",
    "- `v` cola a célula abaixo\n",
    "- `k`e `j` movimenta entre as células para cima e para baixo, respectivamente\n",
    "- `p` abre um seletor dos comandos possíveis no Jupyter"
   ]
  }
 ],
 "metadata": {
  "kernelspec": {
   "display_name": "Python 3",
   "language": "python",
   "name": "python3"
  },
  "language_info": {
   "codemirror_mode": {
    "name": "ipython",
    "version": 3
   },
   "file_extension": ".py",
   "mimetype": "text/x-python",
   "name": "python",
   "nbconvert_exporter": "python",
   "pygments_lexer": "ipython3",
   "version": "3.8.5"
  },
  "latex_envs": {
   "LaTeX_envs_menu_present": true,
   "autoclose": false,
   "autocomplete": true,
   "bibliofile": "biblio.bib",
   "cite_by": "apalike",
   "current_citInitial": 1,
   "eqLabelWithNumbers": true,
   "eqNumInitial": 1,
   "hotkeys": {
    "equation": "Ctrl-E",
    "itemize": "Ctrl-I"
   },
   "labels_anchors": false,
   "latex_user_defs": false,
   "report_style_numbering": false,
   "user_envs_cfg": false
  }
 },
 "nbformat": 4,
 "nbformat_minor": 5
}
