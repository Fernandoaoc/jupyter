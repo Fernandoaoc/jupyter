{
 "cells": [
  {
   "cell_type": "markdown",
   "id": "4815dc18",
   "metadata": {
    "slideshow": {
     "slide_type": "slide"
    }
   },
   "source": [
    "# O ecosistema Jupyter\n",
    "## Uma brevíssima introdução\n",
    "----"
   ]
  },
  {
   "cell_type": "markdown",
   "id": "bbbc3f8f",
   "metadata": {
    "slideshow": {
     "slide_type": "slide"
    }
   },
   "source": [
    "### O que é?\n",
    "\n",
    "<table>\n",
    "    <tr>\n",
    "        <td style=\"width: 150px\"> <img src=\"img/ipython.jpg\" width=\"100\"> </td>\n",
    "        <td style=\"width: 150px\"> <img src=\"img/jupyter.png\" width=\"100\"> </td> \n",
    "        <td style=\"width: 150px\"> <img src=\"img/jupyterlab.jpg\" width=\"100\"> </td>\n",
    "        <td style=\"width: 150px\"> <img src=\"img/binder.png\" width=\"130\"> </td>\n",
    "    </tr>\n",
    "</table>"
   ]
  },
  {
   "cell_type": "markdown",
   "id": "2ac825d2",
   "metadata": {
    "slideshow": {
     "slide_type": "subslide"
    }
   },
   "source": [
    "- *iPython*: foco no código, desenvolvimento interativo e de fácil reprodução.\n",
    "- *Jupyter*: Extensível, com utilização de diferentes _kernels_ e que permitiria anotações e organização de ideias.\n",
    "\n",
    "    - [Kernels](https://github.com/jupyter/jupyter/wiki/Jupyter-kernels)\n",
    "    - [Visão Geral](http://127.0.0.1:8888/tree/jupyter)"
   ]
  },
  {
   "cell_type": "markdown",
   "id": "5a6c97eb",
   "metadata": {
    "slideshow": {
     "slide_type": "subslide"
    }
   },
   "source": [
    "- *JupyterLab*: Um ambiente maior, com diferentes recursos de visualização, usabilidade, gerência e ainda mais extensível.\n",
    "    - [Visão Geral](http://127.0.0.1:8889)\n",
    "- *Binder*: dependências, versões de pacotes e ambiente são um problema? Não deveriam ser ...\n",
    "    - [Exemplo](https://mybinder.org/v2/gh/jupyterlab/jupyterlab-demo/master?urlpath=lab/tree/demo)"
   ]
  },
  {
   "cell_type": "markdown",
   "id": "48bdcab6",
   "metadata": {
    "slideshow": {
     "slide_type": "subslide"
    }
   },
   "source": [
    "- O futuro de experimentos e documentação\n",
    "- Organização melhorada de ideias\n",
    "- Interatividade e facilidade no aprendizado\n",
    "- Extremamente relevante na área de ciência de dados\n",
    "- Utilizando frequentemente por empresas como o _Google_ e _Netflix_.\n",
    "- Projetos como o [Jupyter Book](https://jupyterbook.org/intro.html) estende uma série de funcionalidades que permitem a produção de documentos com maiores recursos."
   ]
  },
  {
   "cell_type": "markdown",
   "id": "ed5cbf7c",
   "metadata": {
    "slideshow": {
     "slide_type": "subslide"
    }
   },
   "source": [
    "### Google Colab\n",
    "\n",
    "<center><img src=\"img/colab.png\" width=\"200\"></center>\n",
    "\n",
    "- Baseado no Jupyter e suporta diversos pacotes diferentes.\n",
    "- Recursos computacionais gratuitos disponíveis\n",
    "- [Link](https://colab.research.google.com)\n"
   ]
  },
  {
   "cell_type": "markdown",
   "id": "cc8ce84e",
   "metadata": {
    "slideshow": {
     "slide_type": "subslide"
    }
   },
   "source": [
    "### Nesta introdução ...\n",
    "- [Gerenciamento de pacotes](#gerenciamento)\n",
    "- [Instalação do Jupyter/JupyterLab](#instalacao)"
   ]
  },
  {
   "cell_type": "markdown",
   "id": "269c6547",
   "metadata": {
    "slideshow": {
     "slide_type": "slide"
    }
   },
   "source": [
    "<a id=\"gerenciamento\"> </a>\n",
    "## Como gerenciar diferentes pacotes\n",
    "\n",
    "A escolha do gerenciador de pacotes é um passo importante. Alternativas:\n",
    "\n",
    "- [pip](https://pypi.org/project/pip/) - Gerenciador de pacotes do Python\n",
    "- [conda](https://docs.conda.io/en/latest/) - Gerenciador de pacotes e dependências que trabalha com qualquer linguagem e múltiplas plataformas.\n",
    "- [mamba](https://github.com/mamba-org/mamba) - Gerenciador de pacote em múltiplas plataforma escrito em C++"
   ]
  },
  {
   "cell_type": "markdown",
   "id": "a5f41ffe",
   "metadata": {
    "slideshow": {
     "slide_type": "subslide"
    }
   },
   "source": [
    "### _Instaladores_\n",
    "\n",
    "Canal próprio de pacotes, provido pela _Anaconda Inc_.\n",
    "- [Miniconda](https://docs.conda.io/en/latest/miniconda.html#) - Instalador possui o _conda_, _Python_ e outros pacotes básicos e dependências.\n",
    "- [Anaconda](https://www.anaconda.com/products/individual) - Solução mais completa, com diversos pacotes frequentemente utilizados em ciência de dados.\n",
    "    - Interface amiguável, inclusive para a instalação de novos pacotes. Solução frequente em ambientes _Microsoft Windows_."
   ]
  },
  {
   "cell_type": "markdown",
   "id": "845b8064",
   "metadata": {
    "slideshow": {
     "slide_type": "subslide"
    }
   },
   "source": [
    "### _Instaladores_\n",
    "\n",
    "Existe o [conda-forge](https://conda-forge.org/), um repositório mantido pela comunidade e que possui inclusive pacotes mais atualizados do que se vê no canal da _Anaconda Inc_.\n",
    "- [Miniforge](https://github.com/conda-forge/miniforge#mambaforge) - Equivalente ao _Miniconda_, que utiliza o _conda-forge_ como repositório de pacotes e que suporte diferentes arquiteturas/processadores."
   ]
  },
  {
   "cell_type": "markdown",
   "id": "0e63931d",
   "metadata": {
    "slideshow": {
     "slide_type": "subslide"
    }
   },
   "source": [
    "### Exemplo de instalação: _micromamba_\n",
    "\n",
    "- O _micromamba_ e o _conda_ são bastante semelhantes. Instalação do _micromamba_:\n",
    "```bash\n",
    "wget -qO- https://micromamba.snakepit.net/api/micromamba/linux-64/latest | tar -xvj bin/micromamba\n",
    "./bin/micromamba shell init -s bash -p ~/micromamba\n",
    "source ~/.bashrc\n",
    "```"
   ]
  },
  {
   "cell_type": "markdown",
   "id": "431bc36d",
   "metadata": {
    "slideshow": {
     "slide_type": "slide"
    }
   },
   "source": [
    "<a id=\"instalacao\"> </a>\n",
    "## Instalação do Jupyter/JupyterLab\n",
    "\n",
    "- O processo de instalação com diferentes gerenciadores de pacote pode variar um pouco, mas são bastante semelhantes.\n",
    "- O Anaconda já conta com a instalação do Jupyter."
   ]
  },
  {
   "cell_type": "markdown",
   "id": "d7ae51dc",
   "metadata": {
    "slideshow": {
     "slide_type": "subslide"
    }
   },
   "source": [
    "###  _micromamba_/_conda_\n",
    " \n",
    "- Ativa o ambiente para instalar novos pacotes ou ainda criar outros ambientes ...\n",
    "```bash\n",
    "micromamba activate\n",
    "micromamba install python=3.6 jupyter -c conda-forge\n",
    "# or\n",
    "micromamba create -p /some/new/prefix jupyterlab -c conda-forge\n",
    "micromamba activate /some/new/prefix\n",
    "```"
   ]
  },
  {
   "cell_type": "markdown",
   "id": "beb8797e",
   "metadata": {
    "slideshow": {
     "slide_type": "subslide"
    }
   },
   "source": [
    "### _pip_\n",
    "\n",
    "- O mais simples de todos.\n",
    "```bash\n",
    "pip install notebook\n",
    "```\n",
    "- Se tem o _Python_ tem o _pip_. Caso não tenha ...\n",
    "```bash\n",
    "apt-get install python3-pip\n",
    "```"
   ]
  },
  {
   "cell_type": "markdown",
   "id": "46702c80",
   "metadata": {
    "slideshow": {
     "slide_type": "subslide"
    }
   },
   "source": [
    "### Iniciando\n",
    "- Iniciando o Notebook\n",
    "```bash\n",
    "jupyter notebook\n",
    "```\n",
    "- Iniciando o JupyterLab\n",
    "```bash\n",
    "jupyter-lab\n",
    "```"
   ]
  },
  {
   "cell_type": "markdown",
   "id": "6296cd67",
   "metadata": {
    "slideshow": {
     "slide_type": "slide"
    }
   },
   "source": [
    "## Continua em ...\n",
    "- Noções básicas e de navegação do Jupyter\n",
    "    - [Noções básicas](Noções%20Básicas%20do%20Jupyter.ipynb)\n",
    "    - [Markdown e outras marcações](Textos.ipynb)"
   ]
  },
  {
   "cell_type": "markdown",
   "id": "8daf1541",
   "metadata": {
    "slideshow": {
     "slide_type": "skip"
    }
   },
   "source": [
    "https://jupyterbook.org/intro.html\n",
    "\n",
    "https://www.youtube.com/watch?v=RXLRIHaabaI\n",
    "\n",
    "https://www.youtube.com/watch?v=zVaMHGlSyh4\n",
    "\n",
    "https://queirozf.com/entries/jupyter-kernels-how-to-add-change-remove"
   ]
  },
  {
   "cell_type": "markdown",
   "id": "6b540c6b",
   "metadata": {
    "slideshow": {
     "slide_type": "skip"
    }
   },
   "source": [
    "Package name PKN\n",
    "environment EN\n",
    "\n",
    "| Tarefa | Conda | Pip | Virtualenv |\n",
    "| :- | :-: | :-: | :-: |\n",
    "|Instalar um pacote\t| conda install \\\\$PACKAGE\\_NAME |pip install \\\\$PACKAGE\\_NAME | X |\n",
    "|Atualizar um pacote | conda update --name \\\\$PACKAGE\\_NAME \\\\$ENVIRONMENT\\_NAME | pip install --upgrade \\\\$PACKAGE\\_NAME |X|\n",
    "|Atualizar o gerenciador de pacotes | conda update conda | Linux/OSX: pip install -U pip <br /> Win: python -m pip install -U pip |\tX |\n",
    "|Desinstalar um pacote | conda remove --name \\\\$ENVIRONMENT\\_NAME \\\\$PACKAGE\\_NAME | pip uninstall \\\\$PACKAGE\\_NAME | X |\n",
    "|Criar um ambiente | conda create --name \\\\$ENVIRONMENT\\_NAME python | X | virtualenv \\\\$ENVIRONMENT\\_NAME |\n",
    "|Ativar um ambiente | conda activate \\\\$ENVIRONMENT\\_NAME | X | source EN/bin/activate |\n",
    "|Procurar pacotes disponíveis | conda search \\$SEARCH\\_TERM | pip search \\$SEARCH\\_TERM |X|\n",
    "|Instalar um pacote de uma localização específica | conda install --channel \\\\$URL \\\\$PACKAGE\\_NAME | pip install --index-url \\\\$URL \\$PACKAGE\\_NAME | X |\n",
    "|Listar pacotes instalados | conda list --name \\\\$ENVIRONMENT\\_NAME | pip list | X |\n",
    "|criar arquivo de requisitos | conda list --export | pip freeze | X |\n",
    "|Instalar outro gerenciador de pacotes | conda install pip | pip install conda | X |\n",
    "|Instalar Python | conda install python=x.x | X | X |\n",
    "|Atualizar Python | conda update python * | X | X |\n",
    "|Listar todos os ambientes | conda info --envs | X | Instalar o virtualenv wrapper, então lsvirtualenv | "
   ]
  }
 ],
 "metadata": {
  "celltoolbar": "Slideshow",
  "kernelspec": {
   "display_name": "Python 3",
   "language": "python",
   "name": "python3"
  },
  "language_info": {
   "codemirror_mode": {
    "name": "ipython",
    "version": 3
   },
   "file_extension": ".py",
   "mimetype": "text/x-python",
   "name": "python",
   "nbconvert_exporter": "python",
   "pygments_lexer": "ipython3",
   "version": "3.8.5"
  },
  "latex_envs": {
   "LaTeX_envs_menu_present": false,
   "autoclose": false,
   "autocomplete": true,
   "bibliofile": "biblio.bib",
   "cite_by": "apalike",
   "current_citInitial": 1,
   "eqLabelWithNumbers": true,
   "eqNumInitial": 1,
   "hotkeys": {
    "equation": "Ctrl-E",
    "itemize": "Ctrl-I"
   },
   "labels_anchors": false,
   "latex_user_defs": false,
   "report_style_numbering": false,
   "user_envs_cfg": false
  },
  "livereveal": {
   "autolaunch": true
  }
 },
 "nbformat": 4,
 "nbformat_minor": 5
}
